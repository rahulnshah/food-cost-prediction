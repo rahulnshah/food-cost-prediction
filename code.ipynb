{
 "cells": [
  {
   "cell_type": "code",
   "execution_count": 1,
   "metadata": {},
   "outputs": [],
   "source": [
    "import matplotlib.pyplot as plt\n",
    "import matplotlib.colors as clr\n",
    "import pandas as pd\n",
    "import seaborn as sns\n",
    "import numpy as np\n",
    "from scipy.stats.mstats import winsorize\n",
    "from sklearn.impute import SimpleImputer\n",
    "import pandas as pd\n",
    "from sklearn.compose import ColumnTransformer\n",
    "from sklearn.preprocessing import StandardScaler, OneHotEncoder\n",
    "from sklearn.model_selection import train_test_split\n",
    "# from sklearn.linear_model import LinearRegression\n",
    "from xgboost import XGBRegressor\n",
    "from sklearn.pipeline import Pipeline\n",
    "from sklearn.metrics import mean_absolute_error, mean_squared_error\n",
    "from sklearn.model_selection import GridSearchCV"
   ]
  },
  {
   "cell_type": "code",
   "execution_count": 2,
   "metadata": {},
   "outputs": [],
   "source": [
    "# Dataset available at https://data.cityofnewyork.us/City-Government/Good-Food-Purchasing-Data/usrf-za7k\n",
    "path = 'Good_Food_Purchasing_Data.csv'\n",
    "df_0 = pd.read_csv(path)"
   ]
  },
  {
   "cell_type": "code",
   "execution_count": 3,
   "metadata": {},
   "outputs": [
    {
     "data": {
      "text/plain": [
       "(17208, 12)"
      ]
     },
     "execution_count": 3,
     "metadata": {},
     "output_type": "execute_result"
    }
   ],
   "source": [
    "df_0.shape"
   ]
  },
  {
   "cell_type": "code",
   "execution_count": 4,
   "metadata": {},
   "outputs": [
    {
     "data": {
      "text/plain": [
       "Index(['Agency', 'Time Period', 'Food Product Group', 'Food Product Category',\n",
       "       'Product Name', 'Product Type', 'Origin Detail', 'Distributor',\n",
       "       'Vendor', '# of Units', 'Total Weight in lbs', 'Total Cost'],\n",
       "      dtype='object')"
      ]
     },
     "execution_count": 4,
     "metadata": {},
     "output_type": "execute_result"
    }
   ],
   "source": [
    "df_0.columns"
   ]
  },
  {
   "cell_type": "code",
   "execution_count": 5,
   "metadata": {},
   "outputs": [
    {
     "data": {
      "text/html": [
       "<div>\n",
       "<style scoped>\n",
       "    .dataframe tbody tr th:only-of-type {\n",
       "        vertical-align: middle;\n",
       "    }\n",
       "\n",
       "    .dataframe tbody tr th {\n",
       "        vertical-align: top;\n",
       "    }\n",
       "\n",
       "    .dataframe thead th {\n",
       "        text-align: right;\n",
       "    }\n",
       "</style>\n",
       "<table border=\"1\" class=\"dataframe\">\n",
       "  <thead>\n",
       "    <tr style=\"text-align: right;\">\n",
       "      <th></th>\n",
       "      <th>Agency</th>\n",
       "      <th>Time Period</th>\n",
       "      <th>Food Product Group</th>\n",
       "      <th>Food Product Category</th>\n",
       "      <th>Product Name</th>\n",
       "      <th>Product Type</th>\n",
       "      <th>Origin Detail</th>\n",
       "      <th>Distributor</th>\n",
       "      <th>Vendor</th>\n",
       "      <th># of Units</th>\n",
       "      <th>Total Weight in lbs</th>\n",
       "      <th>Total Cost</th>\n",
       "    </tr>\n",
       "  </thead>\n",
       "  <tbody>\n",
       "    <tr>\n",
       "      <th>0</th>\n",
       "      <td>Administration for Childrens Services</td>\n",
       "      <td>2018-2019</td>\n",
       "      <td>Meals</td>\n",
       "      <td>Meals</td>\n",
       "      <td>baby food, dinner, assorted</td>\n",
       "      <td>Stage 2 Baby Food Dinner, Assorted Variety</td>\n",
       "      <td>Beech-Nut</td>\n",
       "      <td>Babylab Inc.</td>\n",
       "      <td>Babylab Inc.</td>\n",
       "      <td>40.0</td>\n",
       "      <td>100.0</td>\n",
       "      <td>560.0</td>\n",
       "    </tr>\n",
       "    <tr>\n",
       "      <th>1</th>\n",
       "      <td>Administration for Childrens Services</td>\n",
       "      <td>2018-2019</td>\n",
       "      <td>Meals</td>\n",
       "      <td>Meals</td>\n",
       "      <td>baby food, dinner, assorted</td>\n",
       "      <td>Stage 3 Baby Food Dinner, Assorted Variety</td>\n",
       "      <td>Beech-Nut</td>\n",
       "      <td>Babylab Inc.</td>\n",
       "      <td>Babylab Inc.</td>\n",
       "      <td>40.0</td>\n",
       "      <td>106.0</td>\n",
       "      <td>600.0</td>\n",
       "    </tr>\n",
       "    <tr>\n",
       "      <th>2</th>\n",
       "      <td>Administration for Childrens Services</td>\n",
       "      <td>2018-2019</td>\n",
       "      <td>Meals</td>\n",
       "      <td>Meals</td>\n",
       "      <td>baby food, formula</td>\n",
       "      <td>Premium Nursette Ready-to-Feed Infant Formula,...</td>\n",
       "      <td>Enfamil</td>\n",
       "      <td>Babylab Inc.</td>\n",
       "      <td>Babylab Inc.</td>\n",
       "      <td>200.0</td>\n",
       "      <td>1200.0</td>\n",
       "      <td>16200.0</td>\n",
       "    </tr>\n",
       "    <tr>\n",
       "      <th>3</th>\n",
       "      <td>Administration for Childrens Services</td>\n",
       "      <td>2018-2019</td>\n",
       "      <td>Beverages</td>\n",
       "      <td>Beverages</td>\n",
       "      <td>juice, fruit punch, ss</td>\n",
       "      <td>100% Juice Variety Pack, 4 fl oz bottles</td>\n",
       "      <td>Enfamil</td>\n",
       "      <td>Babylab Inc.</td>\n",
       "      <td>Babylab Inc.</td>\n",
       "      <td>100.0</td>\n",
       "      <td>600.0</td>\n",
       "      <td>1940.0</td>\n",
       "    </tr>\n",
       "    <tr>\n",
       "      <th>4</th>\n",
       "      <td>Administration for Childrens Services</td>\n",
       "      <td>2018-2019</td>\n",
       "      <td>Condiments &amp; Snacks</td>\n",
       "      <td>Condiments &amp; Snacks</td>\n",
       "      <td>cereal, baby, oatmeal</td>\n",
       "      <td>Single Grain Oatmeal Baby Cereal</td>\n",
       "      <td>Enfamil</td>\n",
       "      <td>Babylab Inc.</td>\n",
       "      <td>Babylab Inc.</td>\n",
       "      <td>10.0</td>\n",
       "      <td>60.0</td>\n",
       "      <td>290.0</td>\n",
       "    </tr>\n",
       "  </tbody>\n",
       "</table>\n",
       "</div>"
      ],
      "text/plain": [
       "                                  Agency Time Period   Food Product Group  \\\n",
       "0  Administration for Childrens Services   2018-2019                Meals   \n",
       "1  Administration for Childrens Services   2018-2019                Meals   \n",
       "2  Administration for Childrens Services   2018-2019                Meals   \n",
       "3  Administration for Childrens Services   2018-2019            Beverages   \n",
       "4  Administration for Childrens Services   2018-2019  Condiments & Snacks   \n",
       "\n",
       "  Food Product Category                 Product Name  \\\n",
       "0                 Meals  baby food, dinner, assorted   \n",
       "1                 Meals  baby food, dinner, assorted   \n",
       "2                 Meals           baby food, formula   \n",
       "3             Beverages       juice, fruit punch, ss   \n",
       "4   Condiments & Snacks        cereal, baby, oatmeal   \n",
       "\n",
       "                                        Product Type Origin Detail  \\\n",
       "0         Stage 2 Baby Food Dinner, Assorted Variety     Beech-Nut   \n",
       "1         Stage 3 Baby Food Dinner, Assorted Variety     Beech-Nut   \n",
       "2  Premium Nursette Ready-to-Feed Infant Formula,...       Enfamil   \n",
       "3           100% Juice Variety Pack, 4 fl oz bottles       Enfamil   \n",
       "4                   Single Grain Oatmeal Baby Cereal       Enfamil   \n",
       "\n",
       "    Distributor        Vendor  # of Units  Total Weight in lbs  Total Cost  \n",
       "0  Babylab Inc.  Babylab Inc.        40.0                100.0       560.0  \n",
       "1  Babylab Inc.  Babylab Inc.        40.0                106.0       600.0  \n",
       "2  Babylab Inc.  Babylab Inc.       200.0               1200.0     16200.0  \n",
       "3  Babylab Inc.  Babylab Inc.       100.0                600.0      1940.0  \n",
       "4  Babylab Inc.  Babylab Inc.        10.0                 60.0       290.0  "
      ]
     },
     "execution_count": 5,
     "metadata": {},
     "output_type": "execute_result"
    }
   ],
   "source": [
    "df_0.head()"
   ]
  },
  {
   "cell_type": "code",
   "execution_count": 6,
   "metadata": {},
   "outputs": [
    {
     "data": {
      "text/plain": [
       "Agency                    object\n",
       "Time Period               object\n",
       "Food Product Group        object\n",
       "Food Product Category     object\n",
       "Product Name              object\n",
       "Product Type              object\n",
       "Origin Detail             object\n",
       "Distributor               object\n",
       "Vendor                    object\n",
       "# of Units               float64\n",
       "Total Weight in lbs      float64\n",
       "Total Cost               float64\n",
       "dtype: object"
      ]
     },
     "execution_count": 6,
     "metadata": {},
     "output_type": "execute_result"
    }
   ],
   "source": [
    "df_0.dtypes"
   ]
  },
  {
   "cell_type": "code",
   "execution_count": 7,
   "metadata": {},
   "outputs": [
    {
     "data": {
      "text/html": [
       "<div>\n",
       "<style scoped>\n",
       "    .dataframe tbody tr th:only-of-type {\n",
       "        vertical-align: middle;\n",
       "    }\n",
       "\n",
       "    .dataframe tbody tr th {\n",
       "        vertical-align: top;\n",
       "    }\n",
       "\n",
       "    .dataframe thead th {\n",
       "        text-align: right;\n",
       "    }\n",
       "</style>\n",
       "<table border=\"1\" class=\"dataframe\">\n",
       "  <thead>\n",
       "    <tr style=\"text-align: right;\">\n",
       "      <th></th>\n",
       "      <th># of Units</th>\n",
       "      <th>Total Weight in lbs</th>\n",
       "      <th>Total Cost</th>\n",
       "    </tr>\n",
       "  </thead>\n",
       "  <tbody>\n",
       "    <tr>\n",
       "      <th>count</th>\n",
       "      <td>1.715200e+04</td>\n",
       "      <td>1.715000e+04</td>\n",
       "      <td>3.767000e+03</td>\n",
       "    </tr>\n",
       "    <tr>\n",
       "      <th>mean</th>\n",
       "      <td>1.915848e+04</td>\n",
       "      <td>2.886157e+04</td>\n",
       "      <td>1.398539e+05</td>\n",
       "    </tr>\n",
       "    <tr>\n",
       "      <th>std</th>\n",
       "      <td>5.987577e+05</td>\n",
       "      <td>3.260171e+05</td>\n",
       "      <td>4.243162e+05</td>\n",
       "    </tr>\n",
       "    <tr>\n",
       "      <th>min</th>\n",
       "      <td>-3.600000e+01</td>\n",
       "      <td>-2.330000e+02</td>\n",
       "      <td>0.000000e+00</td>\n",
       "    </tr>\n",
       "    <tr>\n",
       "      <th>25%</th>\n",
       "      <td>3.000000e+00</td>\n",
       "      <td>2.200000e+01</td>\n",
       "      <td>1.210000e+03</td>\n",
       "    </tr>\n",
       "    <tr>\n",
       "      <th>50%</th>\n",
       "      <td>1.700000e+01</td>\n",
       "      <td>1.470000e+02</td>\n",
       "      <td>1.570800e+04</td>\n",
       "    </tr>\n",
       "    <tr>\n",
       "      <th>75%</th>\n",
       "      <td>2.110000e+02</td>\n",
       "      <td>1.811500e+03</td>\n",
       "      <td>9.308300e+04</td>\n",
       "    </tr>\n",
       "    <tr>\n",
       "      <th>max</th>\n",
       "      <td>5.050947e+07</td>\n",
       "      <td>2.525474e+07</td>\n",
       "      <td>9.110741e+06</td>\n",
       "    </tr>\n",
       "  </tbody>\n",
       "</table>\n",
       "</div>"
      ],
      "text/plain": [
       "         # of Units  Total Weight in lbs    Total Cost\n",
       "count  1.715200e+04         1.715000e+04  3.767000e+03\n",
       "mean   1.915848e+04         2.886157e+04  1.398539e+05\n",
       "std    5.987577e+05         3.260171e+05  4.243162e+05\n",
       "min   -3.600000e+01        -2.330000e+02  0.000000e+00\n",
       "25%    3.000000e+00         2.200000e+01  1.210000e+03\n",
       "50%    1.700000e+01         1.470000e+02  1.570800e+04\n",
       "75%    2.110000e+02         1.811500e+03  9.308300e+04\n",
       "max    5.050947e+07         2.525474e+07  9.110741e+06"
      ]
     },
     "execution_count": 7,
     "metadata": {},
     "output_type": "execute_result"
    }
   ],
   "source": [
    "df_0.describe()"
   ]
  },
  {
   "cell_type": "markdown",
   "metadata": {},
   "source": [
    "## Cleaning\n",
    "From the cell above, I noticed a couple of things:\n",
    "- min of `Total Weight in lbs` and `# of Units` is negative, which doesn't make sense.\n",
    "- min `Total Cost` is 0 which would make sense if either the item being sold was sold for free or `# of Units` for it was 0. Both of those features being 0 when `Total Cost` is 0 doesn't make sense."
   ]
  },
  {
   "cell_type": "code",
   "execution_count": 8,
   "metadata": {},
   "outputs": [
    {
     "data": {
      "text/plain": [
       "Agency                       0\n",
       "Time Period                  0\n",
       "Food Product Group           0\n",
       "Food Product Category        0\n",
       "Product Name                 1\n",
       "Product Type                 0\n",
       "Origin Detail             2149\n",
       "Distributor                911\n",
       "Vendor                     486\n",
       "# of Units                  56\n",
       "Total Weight in lbs         58\n",
       "Total Cost               13441\n",
       "dtype: int64"
      ]
     },
     "execution_count": 8,
     "metadata": {},
     "output_type": "execute_result"
    }
   ],
   "source": [
    "df_0.isna().sum() # check for null values per column"
   ]
  },
  {
   "cell_type": "code",
   "execution_count": null,
   "metadata": {},
   "outputs": [],
   "source": [
    "# Dropping rows with NaN values in any of the specified columns\n",
    "# df = df.dropna(subset=['# of Units', 'Total Weight in lbs', 'Total Cost'])\n",
    "# df[(df[\"Total Cost\"].isna()) | (df[\"# of Units\"].isna()) | (df[\"Total Weight in lbs\"].isna())]"
   ]
  },
  {
   "cell_type": "code",
   "execution_count": null,
   "metadata": {},
   "outputs": [],
   "source": [
    "# Set Total Cost and Total Weight in lbs to 0 where # of Units = 0\n",
    "# df.loc[df[\"# of Units\"] == 0, [\"Total Cost\"]] = 0\n",
    "# df"
   ]
  },
  {
   "cell_type": "markdown",
   "metadata": {},
   "source": [
    "### Rows where the `Total Weight in lbs` or `# of Units` or `Total Cost` is less than 0"
   ]
  },
  {
   "cell_type": "code",
   "execution_count": 9,
   "metadata": {},
   "outputs": [
    {
     "data": {
      "text/plain": [
       "(6, 12)"
      ]
     },
     "execution_count": 9,
     "metadata": {},
     "output_type": "execute_result"
    }
   ],
   "source": [
    "df_0[(df_0[\"Total Weight in lbs\"] < 0) | (df_0[\"# of Units\"] < 0) | (df_0[\"Total Cost\"] < 0)].shape"
   ]
  },
  {
   "cell_type": "code",
   "execution_count": 10,
   "metadata": {},
   "outputs": [
    {
     "data": {
      "text/plain": [
       "(17208, 12)"
      ]
     },
     "execution_count": 10,
     "metadata": {},
     "output_type": "execute_result"
    }
   ],
   "source": [
    "df_0.shape"
   ]
  },
  {
   "cell_type": "markdown",
   "metadata": {},
   "source": [
    "### Drop the rows you found above"
   ]
  },
  {
   "cell_type": "code",
   "execution_count": 11,
   "metadata": {},
   "outputs": [
    {
     "data": {
      "text/plain": [
       "(17202, 12)"
      ]
     },
     "execution_count": 11,
     "metadata": {},
     "output_type": "execute_result"
    }
   ],
   "source": [
    "df_1 = df_0[~((df_0[\"Total Weight in lbs\"] < 0) | (df_0[\"# of Units\"] < 0) | (df_0[\"Total Cost\"] < 0))]\n",
    "df_1.shape"
   ]
  },
  {
   "cell_type": "markdown",
   "metadata": {},
   "source": [
    "#### Rows where `# of Units` or `Total Weight in lbs` is 0 but `Total Cost` is not 0"
   ]
  },
  {
   "cell_type": "code",
   "execution_count": 12,
   "metadata": {},
   "outputs": [
    {
     "data": {
      "text/plain": [
       "(960, 12)"
      ]
     },
     "execution_count": 12,
     "metadata": {},
     "output_type": "execute_result"
    }
   ],
   "source": [
    "df_1[((df_1['# of Units'] == 0) | (df_1['Total Weight in lbs'] == 0)) & (df_1[\"Total Cost\"] != 0)].shape"
   ]
  },
  {
   "cell_type": "markdown",
   "metadata": {},
   "source": [
    "### Drop the rows you found above"
   ]
  },
  {
   "cell_type": "code",
   "execution_count": 13,
   "metadata": {},
   "outputs": [],
   "source": [
    "df_2 = df_1[~(((df_1['# of Units'] == 0) | (df_1['Total Weight in lbs'] == 0)) & (df_1[\"Total Cost\"] != 0))]"
   ]
  },
  {
   "cell_type": "markdown",
   "metadata": {},
   "source": [
    "#### Rows where `# of Units` and `Total Weight in lbs` is 0 but `Total Cost` is not 0"
   ]
  },
  {
   "cell_type": "code",
   "execution_count": 14,
   "metadata": {},
   "outputs": [
    {
     "data": {
      "text/plain": [
       "(0, 12)"
      ]
     },
     "execution_count": 14,
     "metadata": {},
     "output_type": "execute_result"
    }
   ],
   "source": [
    "df_2[((df_2['# of Units'] == 0) & (df_2['Total Weight in lbs'] == 0)) & (df_2[\"Total Cost\"] != 0)].shape"
   ]
  },
  {
   "cell_type": "code",
   "execution_count": 15,
   "metadata": {},
   "outputs": [
    {
     "data": {
      "text/html": [
       "<div>\n",
       "<style scoped>\n",
       "    .dataframe tbody tr th:only-of-type {\n",
       "        vertical-align: middle;\n",
       "    }\n",
       "\n",
       "    .dataframe tbody tr th {\n",
       "        vertical-align: top;\n",
       "    }\n",
       "\n",
       "    .dataframe thead th {\n",
       "        text-align: right;\n",
       "    }\n",
       "</style>\n",
       "<table border=\"1\" class=\"dataframe\">\n",
       "  <thead>\n",
       "    <tr style=\"text-align: right;\">\n",
       "      <th></th>\n",
       "      <th># of Units</th>\n",
       "      <th>Total Weight in lbs</th>\n",
       "      <th>Total Cost</th>\n",
       "    </tr>\n",
       "  </thead>\n",
       "  <tbody>\n",
       "    <tr>\n",
       "      <th>count</th>\n",
       "      <td>1.619100e+04</td>\n",
       "      <td>1.618800e+04</td>\n",
       "      <td>3.442000e+03</td>\n",
       "    </tr>\n",
       "    <tr>\n",
       "      <th>mean</th>\n",
       "      <td>1.985198e+04</td>\n",
       "      <td>3.057655e+04</td>\n",
       "      <td>1.341548e+05</td>\n",
       "    </tr>\n",
       "    <tr>\n",
       "      <th>std</th>\n",
       "      <td>6.162235e+05</td>\n",
       "      <td>3.354868e+05</td>\n",
       "      <td>4.223606e+05</td>\n",
       "    </tr>\n",
       "    <tr>\n",
       "      <th>min</th>\n",
       "      <td>0.000000e+00</td>\n",
       "      <td>0.000000e+00</td>\n",
       "      <td>0.000000e+00</td>\n",
       "    </tr>\n",
       "    <tr>\n",
       "      <th>25%</th>\n",
       "      <td>3.000000e+00</td>\n",
       "      <td>3.000000e+01</td>\n",
       "      <td>1.144750e+03</td>\n",
       "    </tr>\n",
       "    <tr>\n",
       "      <th>50%</th>\n",
       "      <td>1.700000e+01</td>\n",
       "      <td>1.865000e+02</td>\n",
       "      <td>1.436600e+04</td>\n",
       "    </tr>\n",
       "    <tr>\n",
       "      <th>75%</th>\n",
       "      <td>2.005000e+02</td>\n",
       "      <td>2.176000e+03</td>\n",
       "      <td>8.852700e+04</td>\n",
       "    </tr>\n",
       "    <tr>\n",
       "      <th>max</th>\n",
       "      <td>5.050947e+07</td>\n",
       "      <td>2.525474e+07</td>\n",
       "      <td>9.110741e+06</td>\n",
       "    </tr>\n",
       "  </tbody>\n",
       "</table>\n",
       "</div>"
      ],
      "text/plain": [
       "         # of Units  Total Weight in lbs    Total Cost\n",
       "count  1.619100e+04         1.618800e+04  3.442000e+03\n",
       "mean   1.985198e+04         3.057655e+04  1.341548e+05\n",
       "std    6.162235e+05         3.354868e+05  4.223606e+05\n",
       "min    0.000000e+00         0.000000e+00  0.000000e+00\n",
       "25%    3.000000e+00         3.000000e+01  1.144750e+03\n",
       "50%    1.700000e+01         1.865000e+02  1.436600e+04\n",
       "75%    2.005000e+02         2.176000e+03  8.852700e+04\n",
       "max    5.050947e+07         2.525474e+07  9.110741e+06"
      ]
     },
     "execution_count": 15,
     "metadata": {},
     "output_type": "execute_result"
    }
   ],
   "source": [
    "df_2.describe()"
   ]
  },
  {
   "cell_type": "code",
   "execution_count": 16,
   "metadata": {},
   "outputs": [
    {
     "data": {
      "text/plain": [
       "Agency                       0\n",
       "Time Period                  0\n",
       "Food Product Group           0\n",
       "Food Product Category        0\n",
       "Product Name                 1\n",
       "Product Type                 0\n",
       "Origin Detail             1842\n",
       "Distributor                759\n",
       "Vendor                     338\n",
       "# of Units                  51\n",
       "Total Weight in lbs         54\n",
       "Total Cost               12800\n",
       "dtype: int64"
      ]
     },
     "execution_count": 16,
     "metadata": {},
     "output_type": "execute_result"
    }
   ],
   "source": [
    "df_2.isna().sum()"
   ]
  },
  {
   "cell_type": "code",
   "execution_count": 17,
   "metadata": {},
   "outputs": [
    {
     "data": {
      "text/plain": [
       "(16242, 12)"
      ]
     },
     "execution_count": 17,
     "metadata": {},
     "output_type": "execute_result"
    }
   ],
   "source": [
    "df_2.shape"
   ]
  },
  {
   "cell_type": "markdown",
   "metadata": {},
   "source": [
    "## Impute if you need to"
   ]
  },
  {
   "cell_type": "code",
   "execution_count": 18,
   "metadata": {},
   "outputs": [
    {
     "name": "stdout",
     "output_type": "stream",
     "text": [
      "78.80802856791036\n"
     ]
    }
   ],
   "source": [
    "# check what percentage of target values are missing\n",
    "def calculate_percentage(part, whole):\n",
    "    part = np.array(part, dtype=float)\n",
    "    whole = np.array(whole, dtype=float)\n",
    "    \n",
    "    # Handle division by zero\n",
    "    if np.any(whole == 0):\n",
    "        raise ValueError(\"Whole cannot be zero\")\n",
    "    \n",
    "    return (part / whole) * 100\n",
    "\n",
    "# Example usage with scalars\n",
    "print(calculate_percentage(df_2[\"Total Cost\"].isnull().sum(), df_2.shape[0]))"
   ]
  },
  {
   "cell_type": "code",
   "execution_count": 19,
   "metadata": {},
   "outputs": [
    {
     "name": "stderr",
     "output_type": "stream",
     "text": [
      "C:\\Users\\rahul\\AppData\\Local\\Temp\\ipykernel_14364\\2399444282.py:1: SettingWithCopyWarning: \n",
      "A value is trying to be set on a copy of a slice from a DataFrame\n",
      "\n",
      "See the caveats in the documentation: https://pandas.pydata.org/pandas-docs/stable/user_guide/indexing.html#returning-a-view-versus-a-copy\n",
      "  df_2.dropna(subset=['Total Cost'], inplace=True)\n"
     ]
    }
   ],
   "source": [
    "df_2.dropna(subset=['Total Cost'], inplace=True)"
   ]
  },
  {
   "cell_type": "code",
   "execution_count": 20,
   "metadata": {},
   "outputs": [
    {
     "data": {
      "text/plain": [
       "Agency                     0\n",
       "Time Period                0\n",
       "Food Product Group         0\n",
       "Food Product Category      0\n",
       "Product Name               1\n",
       "Product Type               0\n",
       "Origin Detail            124\n",
       "Distributor              759\n",
       "Vendor                   338\n",
       "# of Units                 1\n",
       "Total Weight in lbs       14\n",
       "Total Cost                 0\n",
       "dtype: int64"
      ]
     },
     "execution_count": 20,
     "metadata": {},
     "output_type": "execute_result"
    }
   ],
   "source": [
    "df_2.isna().sum()"
   ]
  },
  {
   "cell_type": "markdown",
   "metadata": {},
   "source": [
    "## Boxplots"
   ]
  },
  {
   "cell_type": "code",
   "execution_count": null,
   "metadata": {},
   "outputs": [],
   "source": [
    "sns.boxplot(x=df_2[\"Total Cost\"])"
   ]
  },
  {
   "cell_type": "code",
   "execution_count": null,
   "metadata": {},
   "outputs": [],
   "source": [
    "sns.boxplot(x=df_2[\"Total Weight in lbs\"])"
   ]
  },
  {
   "cell_type": "code",
   "execution_count": null,
   "metadata": {},
   "outputs": [],
   "source": [
    "sns.boxplot(x=df_2[\"# of Units\"])"
   ]
  },
  {
   "cell_type": "markdown",
   "metadata": {},
   "source": [
    "## EDA"
   ]
  },
  {
   "cell_type": "markdown",
   "metadata": {},
   "source": [
    "## What is the distribution of Total Cost of the foods?"
   ]
  },
  {
   "cell_type": "code",
   "execution_count": null,
   "metadata": {},
   "outputs": [],
   "source": [
    "sns.histplot(data=df_2, x=\"Total Cost\")"
   ]
  },
  {
   "cell_type": "markdown",
   "metadata": {},
   "source": [
    "## Any strong correlations between features?"
   ]
  },
  {
   "cell_type": "code",
   "execution_count": null,
   "metadata": {},
   "outputs": [],
   "source": [
    "filtered_df = df_2.iloc[:, 9:12]\n",
    "# correlation matrix\n",
    "myColors = (\"red\",\"white\",\"blue\")\n",
    "cmap1 = clr.LinearSegmentedColormap.from_list('Custom', myColors, len(myColors))\n",
    "corr = filtered_df.corr()\n",
    "mask = np.zeros_like(corr, dtype=bool)\n",
    "#mask[np.triu_indices_from(mask)]= True\n",
    "plt.figure(figsize=(20,10))\n",
    "sns.heatmap(corr, mask = mask, vmin = -1, vmax = 1, annot=True)"
   ]
  },
  {
   "cell_type": "code",
   "execution_count": null,
   "metadata": {},
   "outputs": [],
   "source": [
    "# Let Target be Total_cost\n",
    "x_vars = [\"# of Units\", \"Total Weight in lbs\"]\n",
    "y_vars = [\"Total Cost\"]\n",
    "sns.pairplot(filtered_df, x_vars=x_vars, y_vars=y_vars)"
   ]
  },
  {
   "cell_type": "markdown",
   "metadata": {},
   "source": [
    "## How many foods per Food Product Group?"
   ]
  },
  {
   "cell_type": "code",
   "execution_count": null,
   "metadata": {},
   "outputs": [],
   "source": [
    "sns.countplot(df_2, y=\"Food Product Group\", orient='h')"
   ]
  },
  {
   "cell_type": "markdown",
   "metadata": {},
   "source": [
    "## How many foods per food product category?"
   ]
  },
  {
   "cell_type": "code",
   "execution_count": null,
   "metadata": {},
   "outputs": [],
   "source": [
    "sns.countplot(df_2, y=\"Food Product Category\", orient='h')"
   ]
  },
  {
   "cell_type": "markdown",
   "metadata": {},
   "source": [
    "## More Boxplots "
   ]
  },
  {
   "cell_type": "code",
   "execution_count": null,
   "metadata": {},
   "outputs": [],
   "source": [
    "plt.figure(figsize=(10, 20))  # Adjust the figure size as needed\n",
    "sns.boxplot( x=\"Total Cost\", y=\"Food Product Category\", data=df_2)"
   ]
  },
  {
   "cell_type": "code",
   "execution_count": null,
   "metadata": {},
   "outputs": [],
   "source": [
    "plt.figure(figsize=(10, 20))  # Adjust the figure size as needed\n",
    "sns.boxplot( x=\"Total Cost\", y=\"Food Product Group\", data=df_2)"
   ]
  },
  {
   "cell_type": "code",
   "execution_count": null,
   "metadata": {},
   "outputs": [],
   "source": [
    "plt.figure(figsize=(10, 20))  # Adjust the figure size as needed\n",
    "sns.boxplot( x=\"Total Cost\", y=\"Vendor\", data=df_2)"
   ]
  },
  {
   "cell_type": "code",
   "execution_count": null,
   "metadata": {},
   "outputs": [],
   "source": [
    "plt.figure(figsize=(10, 20))  # Adjust the figure size as needed\n",
    "sns.boxplot( x=\"Total Cost\", y=\"Distributor\", data=df_2)\n",
    "plt.tight_layout()  # Adjust layout for better visibility"
   ]
  },
  {
   "cell_type": "markdown",
   "metadata": {},
   "source": [
    "## Show top 5 highest priced products from top 5 vendors"
   ]
  },
  {
   "cell_type": "code",
   "execution_count": null,
   "metadata": {},
   "outputs": [],
   "source": [
    "df_2[\"Distributor\"].value_counts() \\\n",
    ".head(10) \\\n",
    ".plot(kind=\"bar\", title=\"Top Distributors\")"
   ]
  },
  {
   "cell_type": "code",
   "execution_count": null,
   "metadata": {},
   "outputs": [],
   "source": [
    "# winsorize Total Cost column to get rid of outliers\n",
    "# df.loc[:, \"Total Cost\"] = winsorize(df[\"Total Cost\"], limits=(None, 0.0005))"
   ]
  },
  {
   "cell_type": "code",
   "execution_count": null,
   "metadata": {},
   "outputs": [],
   "source": [
    "# df_2.query('Total Cost > 1000')[\"Distributor\"].value_counts() \\\n",
    "# .head(10) \\\n",
    "# .plot(kind=\"bar\", title=\"Top Distributors whose food products were priced at greater than 1000 USD\")"
   ]
  },
  {
   "cell_type": "markdown",
   "metadata": {},
   "source": [
    "## Scaling & Encoding\n",
    "- Scale: '# of Units', 'Total Weight in lbs', 'Total Cost'\n",
    "- Encode: 'Food Product Category', 'Food Product Group'\n",
    "\n",
    "# review all encoding techniques and normalizing techniques"
   ]
  },
  {
   "cell_type": "code",
   "execution_count": 21,
   "metadata": {},
   "outputs": [
    {
     "data": {
      "text/html": [
       "<div>\n",
       "<style scoped>\n",
       "    .dataframe tbody tr th:only-of-type {\n",
       "        vertical-align: middle;\n",
       "    }\n",
       "\n",
       "    .dataframe tbody tr th {\n",
       "        vertical-align: top;\n",
       "    }\n",
       "\n",
       "    .dataframe thead th {\n",
       "        text-align: right;\n",
       "    }\n",
       "</style>\n",
       "<table border=\"1\" class=\"dataframe\">\n",
       "  <thead>\n",
       "    <tr style=\"text-align: right;\">\n",
       "      <th></th>\n",
       "      <th># of Units</th>\n",
       "      <th>Total Weight in lbs</th>\n",
       "      <th>Total Cost</th>\n",
       "    </tr>\n",
       "  </thead>\n",
       "  <tbody>\n",
       "    <tr>\n",
       "      <th>count</th>\n",
       "      <td>3.441000e+03</td>\n",
       "      <td>3.428000e+03</td>\n",
       "      <td>3.442000e+03</td>\n",
       "    </tr>\n",
       "    <tr>\n",
       "      <th>mean</th>\n",
       "      <td>8.749927e+04</td>\n",
       "      <td>1.235444e+05</td>\n",
       "      <td>1.341548e+05</td>\n",
       "    </tr>\n",
       "    <tr>\n",
       "      <th>std</th>\n",
       "      <td>1.332750e+06</td>\n",
       "      <td>7.083248e+05</td>\n",
       "      <td>4.223606e+05</td>\n",
       "    </tr>\n",
       "    <tr>\n",
       "      <th>min</th>\n",
       "      <td>0.000000e+00</td>\n",
       "      <td>0.000000e+00</td>\n",
       "      <td>0.000000e+00</td>\n",
       "    </tr>\n",
       "    <tr>\n",
       "      <th>25%</th>\n",
       "      <td>1.000000e+02</td>\n",
       "      <td>7.237500e+02</td>\n",
       "      <td>1.144750e+03</td>\n",
       "    </tr>\n",
       "    <tr>\n",
       "      <th>50%</th>\n",
       "      <td>8.790000e+02</td>\n",
       "      <td>9.169000e+03</td>\n",
       "      <td>1.436600e+04</td>\n",
       "    </tr>\n",
       "    <tr>\n",
       "      <th>75%</th>\n",
       "      <td>4.968000e+03</td>\n",
       "      <td>6.730325e+04</td>\n",
       "      <td>8.852700e+04</td>\n",
       "    </tr>\n",
       "    <tr>\n",
       "      <th>max</th>\n",
       "      <td>5.050947e+07</td>\n",
       "      <td>2.525474e+07</td>\n",
       "      <td>9.110741e+06</td>\n",
       "    </tr>\n",
       "  </tbody>\n",
       "</table>\n",
       "</div>"
      ],
      "text/plain": [
       "         # of Units  Total Weight in lbs    Total Cost\n",
       "count  3.441000e+03         3.428000e+03  3.442000e+03\n",
       "mean   8.749927e+04         1.235444e+05  1.341548e+05\n",
       "std    1.332750e+06         7.083248e+05  4.223606e+05\n",
       "min    0.000000e+00         0.000000e+00  0.000000e+00\n",
       "25%    1.000000e+02         7.237500e+02  1.144750e+03\n",
       "50%    8.790000e+02         9.169000e+03  1.436600e+04\n",
       "75%    4.968000e+03         6.730325e+04  8.852700e+04\n",
       "max    5.050947e+07         2.525474e+07  9.110741e+06"
      ]
     },
     "execution_count": 21,
     "metadata": {},
     "output_type": "execute_result"
    }
   ],
   "source": [
    "df_2.describe()"
   ]
  },
  {
   "cell_type": "code",
   "execution_count": 22,
   "metadata": {},
   "outputs": [],
   "source": [
    "# filter out some columns\n",
    "df = df_2[[# 'Agency', 'Time Period', \n",
    "    #    'Product Name', 'Product Type', 'Origin Detail', 'Distributor',\n",
    "    #    'Vendor', \n",
    "    #    'Food Product Category',\n",
    "         'Vendor',  'Food Product Group', '# of Units', 'Total Weight in lbs', 'Total Cost']].copy()"
   ]
  },
  {
   "cell_type": "code",
   "execution_count": 23,
   "metadata": {},
   "outputs": [],
   "source": [
    "# Define numeric and categorical features\n",
    "numeric_features = ['# of Units', 'Total Weight in lbs']\n",
    "categorical_features = ['Vendor', 'Food Product Group']\n",
    "\n",
    "# Create transformers\n",
    "numeric_transformer = Pipeline(steps=[\n",
    "    ('scaler', StandardScaler())\n",
    "])\n",
    "\n",
    "categorical_transformer = Pipeline(steps=[\n",
    "    ('onehot', OneHotEncoder(handle_unknown='ignore'))\n",
    "])\n",
    "\n",
    "# Create ColumnTransformer\n",
    "preprocessor = ColumnTransformer(\n",
    "    transformers=[\n",
    "        ('num', numeric_transformer, numeric_features),\n",
    "        ('cat', categorical_transformer, categorical_features)\n",
    "    ])\n",
    "\n",
    "xgb_model = XGBRegressor()\n",
    "\n",
    "model = Pipeline(steps=[(\"preprocessor\", preprocessor), (\"model\", xgb_model)])"
   ]
  },
  {
   "cell_type": "markdown",
   "metadata": {},
   "source": [
    "#### exhaustively search for the optimal hyperparameters"
   ]
  },
  {
   "cell_type": "code",
   "execution_count": 24,
   "metadata": {},
   "outputs": [],
   "source": [
    "# Split data into features and target\n",
    "X = df.drop('Total Cost', axis=1)\n",
    "y = df['Total Cost']\n",
    "\n",
    "# Split data into training and testing sets\n",
    "X_train, X_test, y_train, y_test = train_test_split(X, y, test_size=0.2, random_state=42)"
   ]
  },
  {
   "cell_type": "code",
   "execution_count": 30,
   "metadata": {},
   "outputs": [
    {
     "name": "stdout",
     "output_type": "stream",
     "text": [
      "The best hyperparameters are  {'model__learning_rate': 0.015, 'model__max_depth': 4, 'model__n_estimators': 700}\n",
      "The best score is  0.7915024092434398\n"
     ]
    }
   ],
   "source": [
    "# set up our search grid\n",
    "param_grid = {\"model__max_depth\":    [4, 5, 6],\n",
    "              \"model__n_estimators\": [500, 600, 700],\n",
    "              \"model__learning_rate\": [0.01, 0.015]}\n",
    "\n",
    "# try out every combination of the above values\n",
    "search = GridSearchCV(model, param_grid, cv=5).fit(X_train, y_train)\n",
    "\n",
    "print(\"The best hyperparameters are \",search.best_params_)\n",
    "print(\"The best score is \",search.best_score_)"
   ]
  },
  {
   "cell_type": "markdown",
   "metadata": {},
   "source": [
    "## Evaluate model\n"
   ]
  },
  {
   "cell_type": "code",
   "execution_count": 31,
   "metadata": {},
   "outputs": [
    {
     "name": "stdout",
     "output_type": "stream",
     "text": [
      "Mean Absolute Error: 57229.32041287249\n",
      "Mean Squared Error: 81972006786.9568\n",
      "Root Mean Squared Error: 286307.53882312775\n"
     ]
    },
    {
     "name": "stderr",
     "output_type": "stream",
     "text": [
      "c:\\Users\\rahul\\OneDrive\\Documents\\Desktop\\food_cost_prediction\\.venv\\Lib\\site-packages\\sklearn\\metrics\\_regression.py:492: FutureWarning: 'squared' is deprecated in version 1.4 and will be removed in 1.6. To calculate the root mean squared error, use the function'root_mean_squared_error'.\n",
      "  warnings.warn(\n"
     ]
    }
   ],
   "source": [
    "# Calculate MAE\n",
    "y_pred = search.predict(X_test)\n",
    "mae = mean_absolute_error(y_test, y_pred)\n",
    "print('Mean Absolute Error:', mae)\n",
    "\n",
    "# Calculate MSE\n",
    "mse = mean_squared_error(y_test, y_pred)\n",
    "print('Mean Squared Error:', mse)\n",
    "\n",
    "# Calculate RMSE\n",
    "rmse = mean_squared_error(y_test, y_pred, squared=False)\n",
    "print('Root Mean Squared Error:', rmse)"
   ]
  },
  {
   "cell_type": "code",
   "execution_count": 33,
   "metadata": {},
   "outputs": [
    {
     "data": {
      "text/html": [
       "<div>\n",
       "<style scoped>\n",
       "    .dataframe tbody tr th:only-of-type {\n",
       "        vertical-align: middle;\n",
       "    }\n",
       "\n",
       "    .dataframe tbody tr th {\n",
       "        vertical-align: top;\n",
       "    }\n",
       "\n",
       "    .dataframe thead th {\n",
       "        text-align: right;\n",
       "    }\n",
       "</style>\n",
       "<table border=\"1\" class=\"dataframe\">\n",
       "  <thead>\n",
       "    <tr style=\"text-align: right;\">\n",
       "      <th></th>\n",
       "      <th>Actual</th>\n",
       "      <th>Prediction</th>\n",
       "    </tr>\n",
       "  </thead>\n",
       "  <tbody>\n",
       "    <tr>\n",
       "      <th>16837</th>\n",
       "      <td>144500.0</td>\n",
       "      <td>95716.453125</td>\n",
       "    </tr>\n",
       "    <tr>\n",
       "      <th>15411</th>\n",
       "      <td>1663.0</td>\n",
       "      <td>99.245338</td>\n",
       "    </tr>\n",
       "    <tr>\n",
       "      <th>15272</th>\n",
       "      <td>453905.0</td>\n",
       "      <td>432688.625000</td>\n",
       "    </tr>\n",
       "    <tr>\n",
       "      <th>16767</th>\n",
       "      <td>189.0</td>\n",
       "      <td>12219.028320</td>\n",
       "    </tr>\n",
       "    <tr>\n",
       "      <th>15510</th>\n",
       "      <td>6927.0</td>\n",
       "      <td>7606.429688</td>\n",
       "    </tr>\n",
       "  </tbody>\n",
       "</table>\n",
       "</div>"
      ],
      "text/plain": [
       "         Actual     Prediction\n",
       "16837  144500.0   95716.453125\n",
       "15411    1663.0      99.245338\n",
       "15272  453905.0  432688.625000\n",
       "16767     189.0   12219.028320\n",
       "15510    6927.0    7606.429688"
      ]
     },
     "execution_count": 33,
     "metadata": {},
     "output_type": "execute_result"
    }
   ],
   "source": [
    "pd.DataFrame({'Actual': y_test[5:10], 'Prediction': search.predict(X_test)[5:10]})"
   ]
  },
  {
   "cell_type": "code",
   "execution_count": null,
   "metadata": {},
   "outputs": [],
   "source": []
  }
 ],
 "metadata": {
  "kernelspec": {
   "display_name": "myvenv",
   "language": "python",
   "name": "python3"
  },
  "language_info": {
   "codemirror_mode": {
    "name": "ipython",
    "version": 3
   },
   "file_extension": ".py",
   "mimetype": "text/x-python",
   "name": "python",
   "nbconvert_exporter": "python",
   "pygments_lexer": "ipython3",
   "version": "3.11.5"
  }
 },
 "nbformat": 4,
 "nbformat_minor": 2
}
